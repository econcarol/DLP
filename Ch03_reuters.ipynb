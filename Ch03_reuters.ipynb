{
 "cells": [
  {
   "cell_type": "code",
   "execution_count": 1,
   "metadata": {},
   "outputs": [
    {
     "name": "stderr",
     "output_type": "stream",
     "text": [
      "Using TensorFlow backend.\n"
     ]
    }
   ],
   "source": [
    "# Deep Learning with Python Ch3: Reuters example\n",
    "# import necessary libraries\n",
    "import numpy as np\n",
    "%matplotlib inline\n",
    "import matplotlib.pyplot as plt\n",
    "from keras.datasets import reuters\n",
    "from keras import models\n",
    "from keras import layers"
   ]
  },
  {
   "cell_type": "code",
   "execution_count": 2,
   "metadata": {},
   "outputs": [],
   "source": [
    "# load data: only keep top 10,000 most used words\n",
    "# save np.load\n",
    "np_load_old = np.load\n",
    "\n",
    "# modify the default parameters of np.load: set allow_pickle to true\n",
    "np.load = lambda *a, **k: np_load_old(*a, allow_pickle=True, **k)\n",
    "\n",
    "# call load_data with allow_pickle implicitly set to true\n",
    "(train_data, train_labels), (test_data, test_labels) = reuters.load_data(num_words=10000)\n",
    "\n",
    "# restore np.load for future normal usage\n",
    "np.load = np_load_old"
   ]
  },
  {
   "cell_type": "code",
   "execution_count": 3,
   "metadata": {},
   "outputs": [
    {
     "name": "stdout",
     "output_type": "stream",
     "text": [
      "? ? ? said as a result of its december acquisition of space co it expects earnings per share in 1987 of 1 15 to 1 30 dlrs per share up from 70 cts in 1986 the company said pretax net should rise to nine to 10 mln dlrs from six mln dlrs in 1986 and rental operation revenues to 19 to 22 mln dlrs from 12 5 mln dlrs it said cash flow per share this year should be 2 50 to three dlrs reuter 3\n",
      "3\n"
     ]
    }
   ],
   "source": [
    "# see the 1st training newswire\n",
    "word_index         = reuters.get_word_index()\n",
    "reverse_word_index = dict([(value, key) for (key, value) in word_index.items()])\n",
    "decoded_newswire   = ' '.join([reverse_word_index.get(i-3,'?') for i in train_data[0]])\n",
    "print(decoded_newswire)\n",
    "print(train_labels[0])"
   ]
  },
  {
   "cell_type": "code",
   "execution_count": 4,
   "metadata": {},
   "outputs": [],
   "source": [
    "# vectorize newswires\n",
    "def vectorize_sequences(sequences, dimension=10000):\n",
    "    # row = # of data points, col = # of most used words\n",
    "    results = np.zeros((len(sequences), dimension))\n",
    "    # set value to 1 if the sequence-th word in the ith data pt is used\n",
    "    for i, sequence in enumerate(sequences):\n",
    "        results[i, sequence] = 1 \n",
    "    return results\n",
    "\n",
    "x_train = vectorize_sequences(train_data)\n",
    "x_test  = vectorize_sequences(test_data)\n",
    "\n",
    "# vectorize labels\n",
    "def vectorize_labels(labels, dimension=46):\n",
    "    # row = # of data points, col = # of categories\n",
    "    results = np.zeros((len(labels), dimension))\n",
    "    # set the label-th label to 1 for the ith data pt\n",
    "    for i, label in enumerate(labels):\n",
    "        results[i, label] = 1 \n",
    "    return results\n",
    "\n",
    "y_train = vectorize_labels(train_labels)\n",
    "y_test  = vectorize_labels(test_labels)"
   ]
  },
  {
   "cell_type": "code",
   "execution_count": 8,
   "metadata": {},
   "outputs": [],
   "source": [
    "# build and compile network\n",
    "model = models.Sequential()\n",
    "model.add(layers.Dense(64, activation='relu', input_shape=(10000,)))\n",
    "model.add(layers.Dense(64, activation='relu'))\n",
    "model.add(layers.Dense(46, activation='softmax'))\n",
    "model.compile(optimizer='rmsprop', loss='categorical_crossentropy', metrics=['acc'])"
   ]
  },
  {
   "cell_type": "code",
   "execution_count": 9,
   "metadata": {},
   "outputs": [],
   "source": [
    "# validation approach\n",
    "# set aside 1,000 samples from training data\n",
    "x_val  = x_train[:1000]\n",
    "x_part = x_train[1000:]\n",
    "y_val  = y_train[:1000]\n",
    "y_part = y_train[1000:]\n",
    "\n",
    "# train network\n",
    "history = model.fit(x_part, y_part, epochs=20, batch_size=512, \n",
    "                    validation_data=(x_val,y_val), verbose=0)"
   ]
  },
  {
   "cell_type": "code",
   "execution_count": 10,
   "metadata": {},
   "outputs": [
    {
     "data": {
      "image/png": "[encoded data removed]",
      "text/plain": [
       "<Figure size 432x288 with 2 Axes>"
      ]
     },
     "metadata": {
      "needs_background": "light"
     },
     "output_type": "display_data"
    }
   ],
   "source": [
    "# plot losses and accuracies\n",
    "history_dict = history.history\n",
    "loss         = history_dict['loss']\n",
    "val_loss     = history_dict['val_loss']\n",
    "acc          = history_dict['acc']\n",
    "val_acc      = history_dict['val_acc']\n",
    "epochs       = range(1, len(loss)+1)\n",
    "\n",
    "plt.subplot(1, 2, 1)\n",
    "plt.plot(epochs, loss, 'bo', label='training loss')\n",
    "plt.plot(epochs, val_loss, 'r', label='validation loss')\n",
    "plt.title('training and validation loss')\n",
    "plt.xlabel('epochs')\n",
    "plt.ylabel('loss')\n",
    "plt.legend()\n",
    "\n",
    "plt.subplot(1, 2, 2)\n",
    "plt.plot(epochs, acc, 'bo', label='training accuracy')\n",
    "plt.plot(epochs, val_acc, 'r', label='validation accuracy')\n",
    "plt.title('training and validation accuracy')\n",
    "plt.xlabel('epochs')\n",
    "plt.ylabel('accuracy')\n",
    "plt.legend()\n",
    "\n",
    "plt.subplots_adjust(top=0.92, bottom=0.08, left=0.10, right=0.95, hspace=0.25, wspace=0.35)\n",
    "plt.show()"
   ]
  },
  {
   "cell_type": "code",
   "execution_count": 11,
   "metadata": {},
   "outputs": [
    {
     "name": "stdout",
     "output_type": "stream",
     "text": [
      "2246/2246 [==============================] - 0s 188us/step\n",
      "[0.9458456039428711, 0.7938557435971546]\n"
     ]
    }
   ],
   "source": [
    "# retrain network with # of epochs where min val_loss is located\n",
    "# start fresh\n",
    "model = models.Sequential()\n",
    "model.add(layers.Dense(64, activation='relu', input_shape=(10000,)))\n",
    "model.add(layers.Dense(64, activation='relu'))\n",
    "model.add(layers.Dense(46, activation='softmax'))\n",
    "model.compile(optimizer='rmsprop', loss='categorical_crossentropy', metrics=['acc'])\n",
    "\n",
    "# retrain\n",
    "best_epochs = np.argmin(val_loss)+1\n",
    "model.fit(x_train, y_train, epochs=best_epochs, batch_size=512, verbose=0)\n",
    "results = model.evaluate(x_test, y_test)\n",
    "print(results)"
   ]
  },
  {
   "cell_type": "code",
   "execution_count": 18,
   "metadata": {},
   "outputs": [
    {
     "name": "stdout",
     "output_type": "stream",
     "text": [
      "sum of probabilities: 1.0\n",
      "predicted category: 3\n",
      "actual category: 4\n"
     ]
    }
   ],
   "source": [
    "# check the prediction on 1st test newswire\n",
    "prediction = model.predict(x_test)\n",
    "print('sum of probabilities:', np.sum(prediction[0]))\n",
    "print('predicted category:', np.argmax(prediction[0]))\n",
    "print('actual category:', np.where(y_test[0] == 1)[0][0]+1)"
   ]
  },
  {
   "cell_type": "code",
   "execution_count": 21,
   "metadata": {},
   "outputs": [
    {
     "name": "stdout",
     "output_type": "stream",
     "text": [
      "random baseline accuracy: 0.179875\n"
     ]
    }
   ],
   "source": [
    "# compare to a random baseline\n",
    "import copy\n",
    "test_labels_copy = copy.copy(test_labels)\n",
    "\n",
    "np.random.seed(1234)\n",
    "np.random.shuffle(test_labels_copy)\n",
    "\n",
    "hist_array = np.array(test_labels) == np.array(test_labels_copy)\n",
    "\n",
    "base_acc = float(np.sum(hist_array))/len(test_labels)\n",
    "print('random baseline accuracy: %.6f' %base_acc)"
   ]
  }
 ],
 "metadata": {
  "kernelspec": {
   "display_name": "Python [conda env:keras-gpu]",
   "language": "python",
   "name": "conda-env-keras-gpu-py"
  },
  "language_info": {
   "codemirror_mode": {
    "name": "ipython",
    "version": 3
   },
   "file_extension": ".py",
   "mimetype": "text/x-python",
   "name": "python",
   "nbconvert_exporter": "python",
   "pygments_lexer": "ipython3",
   "version": "3.6.8"
  }
 },
 "nbformat": 4,
 "nbformat_minor": 2
}
