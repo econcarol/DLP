{
 "cells": [
  {
   "cell_type": "code",
   "execution_count": 2,
   "metadata": {},
   "outputs": [],
   "source": [
    "# Deep Learning with Python Ch5: heatmap example\n",
    "# visualize heatmap of class activation\n",
    "import numpy as np\n",
    "from keras.preprocessing import image\n",
    "from keras.applications import VGG16\n",
    "from keras.applications.vgg16 import preprocess_input, decode_predictions\n",
    "from keras import backend as K\n",
    "\n",
    "# load VGG16 network\n",
    "model = VGG16(weights='imagenet')"
   ]
  },
  {
   "cell_type": "code",
   "execution_count": 3,
   "metadata": {},
   "outputs": [
    {
     "name": "stdout",
     "output_type": "stream",
     "text": [
      "predicted: [('n02504458', 'African_elephant', 0.9094216), ('n01871265', 'tusker', 0.086182274), ('n02504013', 'Indian_elephant', 0.0043545775)]\n",
      "386\n"
     ]
    }
   ],
   "source": [
    "# preprocess image\n",
    "img_path = 'C:\\\\Users\\\\Carol\\\\Desktop\\\\creative_commons_elephant.jpg'\n",
    "img      = image.load_img(img_path, target_size=(224,224))\n",
    "x        = image.img_to_array(img)\n",
    "x        = np.expand_dims(x, axis=0)\n",
    "x        = preprocess_input(x) # channel-wise color normalization\n",
    "\n",
    "# classify image\n",
    "pred = model.predict(x)\n",
    "# print the top 3 classifications\n",
    "print('predicted:', decode_predictions(pred, top=3)[0])\n",
    "# print the vector that was maximally activated for #1 prediction\n",
    "print(np.argmax(pred[0]))"
   ]
  },
  {
   "cell_type": "code",
   "execution_count": 5,
   "metadata": {},
   "outputs": [
    {
     "data": {
      "text/plain": [
       "<matplotlib.image.AxesImage at 0x1b71b30eb00>"
      ]
     },
     "execution_count": 5,
     "metadata": {},
     "output_type": "execute_result"
    },
    {
     "data": {
      "image/png": "[encoded data removed]",
      "text/plain": [
       "<Figure size 288x288 with 1 Axes>"
      ]
     },
     "metadata": {
      "needs_background": "light"
     },
     "output_type": "display_data"
    }
   ],
   "source": [
    "# set up Grad-CAM algorithm\n",
    "african_elephant_output = model.output[:, 386]\n",
    "last_conv_layer         = model.get_layer('block5_conv3')\n",
    "\n",
    "# extract gradients\n",
    "grads = K.gradients(african_elephant_output, last_conv_layer.output)[0]\n",
    "\n",
    "# each entry = mean intensity of the gradients in a feature\n",
    "pooled_grads = K.mean(grads, axis=(0,1,2))\n",
    "\n",
    "# given an image, compute pooled_grads and extract last-layer outputs\n",
    "# initiate the function defined above\n",
    "iterate = K.function([model.input], [pooled_grads, last_conv_layer.output[0]])\n",
    "# apply the function to our image\n",
    "pooled_grads_value, conv_layer_output_value = iterate([x])\n",
    "\n",
    "# multiply each feature by how important it is\n",
    "for i in range(512): # last layer has 512 features\n",
    "    conv_layer_output_value[:,:,i] *= pooled_grads_value[i]\n",
    "    \n",
    "# feature-wise mean = heatmap of the class activation\n",
    "heatmap = np.mean(conv_layer_output_value, axis=-1)\n",
    "\n",
    "# plot heatmap\n",
    "%matplotlib inline\n",
    "import matplotlib.pyplot as plt\n",
    "\n",
    "heatmap  = np.maximum(heatmap, 0) # return an array\n",
    "heatmap /= np.max(heatmap)        # return a value\n",
    "plt.matshow(heatmap)"
   ]
  },
  {
   "cell_type": "code",
   "execution_count": 6,
   "metadata": {},
   "outputs": [
    {
     "data": {
      "text/plain": [
       "True"
      ]
     },
     "execution_count": 6,
     "metadata": {},
     "output_type": "execute_result"
    }
   ],
   "source": [
    "# superimpose heatmap to the original image\n",
    "import cv2\n",
    "\n",
    "# load original image\n",
    "img     = cv2.imread(img_path)\n",
    "# resize heatmap to the original image size\n",
    "heatmap = cv2.resize(heatmap, (img.shape[1], img.shape[0]))\n",
    "# convert heatmap to RGB\n",
    "heatmap = np.uint8(255*heatmap)\n",
    "# apply heatmap to original image\n",
    "heatmap = cv2.applyColorMap(heatmap, cv2.COLORMAP_JET)\n",
    "\n",
    "# generate superimposed image with a heathmap intensity factor of 0.5\n",
    "superimposed_img = 0.5 * heatmap + img\n",
    "# save the superimposed image to disk\n",
    "cv2.imwrite('C:\\\\Users\\\\Carol\\\\Desktop\\\\elephant_cam.jpg', superimposed_img)"
   ]
  }
 ],
 "metadata": {
  "kernelspec": {
   "display_name": "Python [conda env:keras-gpu]",
   "language": "python",
   "name": "conda-env-keras-gpu-py"
  },
  "language_info": {
   "codemirror_mode": {
    "name": "ipython",
    "version": 3
   },
   "file_extension": ".py",
   "mimetype": "text/x-python",
   "name": "python",
   "nbconvert_exporter": "python",
   "pygments_lexer": "ipython3",
   "version": "3.6.8"
  }
 },
 "nbformat": 4,
 "nbformat_minor": 2
}
